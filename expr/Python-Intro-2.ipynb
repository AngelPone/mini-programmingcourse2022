{
 "cells": [
  {
   "cell_type": "markdown",
   "id": "c765d7d5",
   "metadata": {},
   "source": [
    "## List"
   ]
  },
  {
   "cell_type": "code",
   "execution_count": 2,
   "id": "4a3728d5",
   "metadata": {},
   "outputs": [],
   "source": [
    "# 创建列表\n",
    "names = [\"UZI\", \"Marin\", \"Faker\"]\n",
    "\n",
    "# 列表的元素可以是不同类型的数据\n",
    "names = [1, \"UZI\", \"Marin\", \"Faker\", \"2\", 3.4]"
   ]
  },
  {
   "cell_type": "code",
   "execution_count": 4,
   "id": "96a12ff4",
   "metadata": {},
   "outputs": [
    {
     "data": {
      "text/plain": [
       "'0x1058b3b00'"
      ]
     },
     "execution_count": 4,
     "metadata": {},
     "output_type": "execute_result"
    }
   ],
   "source": [
    "hex(id(names))"
   ]
  },
  {
   "cell_type": "code",
   "execution_count": 7,
   "id": "01e3f1ee",
   "metadata": {},
   "outputs": [
    {
     "data": {
      "text/plain": [
       "'0x10585fdb0'"
      ]
     },
     "execution_count": 7,
     "metadata": {},
     "output_type": "execute_result"
    }
   ],
   "source": [
    "hex(id(names[3]))"
   ]
  },
  {
   "cell_type": "markdown",
   "id": "9dd08b03",
   "metadata": {},
   "source": [
    "列表索引"
   ]
  },
  {
   "cell_type": "code",
   "execution_count": 12,
   "id": "1374c731",
   "metadata": {},
   "outputs": [
    {
     "data": {
      "text/plain": [
       "1"
      ]
     },
     "execution_count": 12,
     "metadata": {},
     "output_type": "execute_result"
    }
   ],
   "source": [
    "names[0]"
   ]
  },
  {
   "cell_type": "code",
   "execution_count": 13,
   "id": "6e81d3aa",
   "metadata": {},
   "outputs": [
    {
     "data": {
      "text/plain": [
       "['UZI', 'Marin', 'Faker']"
      ]
     },
     "execution_count": 13,
     "metadata": {},
     "output_type": "execute_result"
    }
   ],
   "source": [
    "names[1:4]"
   ]
  },
  {
   "cell_type": "code",
   "execution_count": 14,
   "id": "f0cbe829",
   "metadata": {},
   "outputs": [
    {
     "data": {
      "text/plain": [
       "3.4"
      ]
     },
     "execution_count": 14,
     "metadata": {},
     "output_type": "execute_result"
    }
   ],
   "source": [
    "names[-1]"
   ]
  },
  {
   "cell_type": "code",
   "execution_count": 15,
   "id": "dfeffa7e",
   "metadata": {},
   "outputs": [
    {
     "name": "stdout",
     "output_type": "stream",
     "text": [
      "['Clearlove', 'UZI', 'Marin', 'Faker', '2', 3.4]\n"
     ]
    }
   ],
   "source": [
    "# 列表的内容可以进行替换，而字符串不可以\n",
    "names[0] = \"Clearlove\"\n",
    "print(names)"
   ]
  },
  {
   "cell_type": "code",
   "execution_count": 8,
   "id": "b1a9a2c7",
   "metadata": {},
   "outputs": [],
   "source": [
    "# 列表存储了对应元素的内存地址\n",
    "games = ['lol', 'heatstone', 'rimworld']\n",
    "names = [games, games, 'variable']"
   ]
  },
  {
   "cell_type": "code",
   "execution_count": 34,
   "id": "fd55582d",
   "metadata": {},
   "outputs": [
    {
     "name": "stdout",
     "output_type": "stream",
     "text": [
      "[['lol', 'heatstone', 'rimworld'], ['lol', 'heatstone', 'rimworld'], 'variable']\n"
     ]
    }
   ],
   "source": [
    "print(names)"
   ]
  },
  {
   "cell_type": "code",
   "execution_count": 36,
   "id": "749f1b73",
   "metadata": {},
   "outputs": [
    {
     "name": "stdout",
     "output_type": "stream",
     "text": [
      "['lol', 'hs', 'rimworld']\n"
     ]
    }
   ],
   "source": [
    "games[1] = 'hs'\n",
    "print(games)"
   ]
  },
  {
   "cell_type": "code",
   "execution_count": 9,
   "id": "5d3d6788",
   "metadata": {},
   "outputs": [],
   "source": [
    "games = 'aaa'"
   ]
  },
  {
   "cell_type": "code",
   "execution_count": 11,
   "id": "ecc07801",
   "metadata": {},
   "outputs": [],
   "source": [
    "games = names[0]"
   ]
  },
  {
   "cell_type": "code",
   "execution_count": 12,
   "id": "f0abce76",
   "metadata": {},
   "outputs": [
    {
     "name": "stdout",
     "output_type": "stream",
     "text": [
      "['lol', 'heatstone', 'rimworld']\n"
     ]
    }
   ],
   "source": [
    "steam_games = games\n",
    "print(steam_games)"
   ]
  },
  {
   "cell_type": "code",
   "execution_count": 13,
   "id": "2bac9452",
   "metadata": {},
   "outputs": [],
   "source": [
    "steam_games.remove('heatstone')"
   ]
  },
  {
   "cell_type": "code",
   "execution_count": 14,
   "id": "83bb2bf3",
   "metadata": {},
   "outputs": [
    {
     "name": "stdout",
     "output_type": "stream",
     "text": [
      "['lol', 'rimworld']\n",
      "['lol', 'rimworld']\n",
      "[['lol', 'rimworld'], ['lol', 'rimworld'], 'variable']\n"
     ]
    }
   ],
   "source": [
    "print(steam_games)\n",
    "print(games)\n",
    "print(names)"
   ]
  },
  {
   "cell_type": "code",
   "execution_count": 16,
   "id": "601c89b8",
   "metadata": {},
   "outputs": [
    {
     "data": {
      "text/plain": [
       "['lol', 'rimworld']"
      ]
     },
     "execution_count": 16,
     "metadata": {},
     "output_type": "execute_result"
    }
   ],
   "source": [
    "games"
   ]
  },
  {
   "cell_type": "code",
   "execution_count": 17,
   "id": "0896690d",
   "metadata": {},
   "outputs": [],
   "source": [
    "steam_games = games.copy()"
   ]
  },
  {
   "cell_type": "code",
   "execution_count": 18,
   "id": "7763c239",
   "metadata": {},
   "outputs": [
    {
     "name": "stdout",
     "output_type": "stream",
     "text": [
      "['a', 'rimworld']\n",
      "['lol', 'rimworld']\n"
     ]
    }
   ],
   "source": [
    "steam_games[0] = 'a'\n",
    "print(steam_games)\n",
    "print(games)"
   ]
  },
  {
   "cell_type": "code",
   "execution_count": 19,
   "id": "47a580af",
   "metadata": {},
   "outputs": [
    {
     "name": "stdout",
     "output_type": "stream",
     "text": [
      "[['lol', 'rimworld'], ['lol', 'rimworld'], 'variable']\n"
     ]
    }
   ],
   "source": [
    "steam_games = names.copy()\n",
    "print(names)"
   ]
  },
  {
   "cell_type": "code",
   "execution_count": 20,
   "id": "31e9621f",
   "metadata": {},
   "outputs": [],
   "source": [
    "names[0][0] = 'a'"
   ]
  },
  {
   "cell_type": "code",
   "execution_count": 21,
   "id": "56bb29d9",
   "metadata": {},
   "outputs": [
    {
     "name": "stdout",
     "output_type": "stream",
     "text": [
      "[['a', 'rimworld'], ['a', 'rimworld'], 'variable']\n"
     ]
    }
   ],
   "source": [
    "print(names)"
   ]
  },
  {
   "cell_type": "code",
   "execution_count": 22,
   "id": "0fdcaceb",
   "metadata": {},
   "outputs": [
    {
     "name": "stdout",
     "output_type": "stream",
     "text": [
      "[['a', 'rimworld'], ['a', 'rimworld'], 'variable']\n"
     ]
    }
   ],
   "source": [
    "print(steam_games)"
   ]
  },
  {
   "cell_type": "code",
   "execution_count": 26,
   "id": "58d7df4c",
   "metadata": {},
   "outputs": [
    {
     "name": "stdout",
     "output_type": "stream",
     "text": [
      "[['a', 'rimworld'], ['a', 'rimworld'], 'a']\n",
      "[['a', 'rimworld'], ['a', 'rimworld'], 'variable']\n"
     ]
    }
   ],
   "source": [
    "steam_games[2] = 'a'\n",
    "print(steam_games)\n",
    "print(names)"
   ]
  },
  {
   "cell_type": "markdown",
   "id": "cf5ff375",
   "metadata": {},
   "source": [
    "### 列表的基础操作"
   ]
  },
  {
   "cell_type": "code",
   "execution_count": 27,
   "id": "041afb05",
   "metadata": {},
   "outputs": [
    {
     "name": "stdout",
     "output_type": "stream",
     "text": [
      "append: [['a', 'rimworld'], ['a', 'rimworld'], 'variable', 'new name']\n",
      "remove: [['a', 'rimworld'], ['a', 'rimworld'], 'variable']\n",
      "reverse: ['variable', ['a', 'rimworld'], ['a', 'rimworld']]\n",
      "3\n",
      "pop: ['variable', ['a', 'rimworld']]\n",
      "clear: []\n"
     ]
    }
   ],
   "source": [
    "names.append('new name')\n",
    "print('append:',  names)\n",
    "names.remove('new name')\n",
    "print('remove:', names)\n",
    "names.reverse()\n",
    "print('reverse:', names)\n",
    "print(len(names))\n",
    "names.pop()\n",
    "print('pop:', names)\n",
    "names.clear()\n",
    "print('clear:', names)\n",
    "names.copy()"
   ]
  },
  {
   "cell_type": "code",
   "execution_count": 54,
   "id": "13f1b08d",
   "metadata": {},
   "outputs": [
    {
     "data": {
      "text/plain": [
       "['names', 'games']"
      ]
     },
     "execution_count": 54,
     "metadata": {},
     "output_type": "execute_result"
    }
   ],
   "source": [
    "['names'] + ['games']"
   ]
  },
  {
   "cell_type": "code",
   "execution_count": 56,
   "id": "98bd506d",
   "metadata": {},
   "outputs": [
    {
     "data": {
      "text/plain": [
       "['names', 'games', 'names', 'games', 'names', 'games']"
      ]
     },
     "execution_count": 56,
     "metadata": {},
     "output_type": "execute_result"
    }
   ],
   "source": [
    "['names', 'games'] * 3"
   ]
  },
  {
   "cell_type": "code",
   "execution_count": 28,
   "id": "23e90163",
   "metadata": {},
   "outputs": [],
   "source": [
    "a = [names, names, names.copy()]"
   ]
  },
  {
   "cell_type": "code",
   "execution_count": 37,
   "id": "24ef99da",
   "metadata": {},
   "outputs": [],
   "source": [
    "b = names.copy()"
   ]
  },
  {
   "cell_type": "code",
   "execution_count": 39,
   "id": "80ce5033",
   "metadata": {},
   "outputs": [
    {
     "name": "stdout",
     "output_type": "stream",
     "text": [
      "[]\n"
     ]
    }
   ],
   "source": [
    "a.remove(b)\n",
    "print(a)"
   ]
  },
  {
   "cell_type": "markdown",
   "id": "5e7b32ba",
   "metadata": {},
   "source": [
    "## 元组 Tuple"
   ]
  },
  {
   "cell_type": "code",
   "execution_count": 41,
   "id": "2ada2059",
   "metadata": {},
   "outputs": [],
   "source": [
    "langs = ('R', 'Python', 'C')"
   ]
  },
  {
   "cell_type": "code",
   "execution_count": 42,
   "id": "eec3ad32",
   "metadata": {},
   "outputs": [
    {
     "name": "stdout",
     "output_type": "stream",
     "text": [
      "R\n",
      "('R', 'Python')\n"
     ]
    }
   ],
   "source": [
    "print(langs[0])\n",
    "print(langs[0:2])"
   ]
  },
  {
   "cell_type": "code",
   "execution_count": 43,
   "id": "89c873ca",
   "metadata": {},
   "outputs": [
    {
     "data": {
      "text/plain": [
       "('R', 'Python', 'C', 'R', 'Python', 'C')"
      ]
     },
     "execution_count": 43,
     "metadata": {},
     "output_type": "execute_result"
    }
   ],
   "source": [
    "langs + langs"
   ]
  },
  {
   "cell_type": "code",
   "execution_count": 44,
   "id": "9f5dee43",
   "metadata": {},
   "outputs": [
    {
     "data": {
      "text/plain": [
       "('R', 'Python', 'C', 'R', 'Python', 'C')"
      ]
     },
     "execution_count": 44,
     "metadata": {},
     "output_type": "execute_result"
    }
   ],
   "source": [
    "langs * 2"
   ]
  },
  {
   "cell_type": "code",
   "execution_count": 45,
   "id": "08902622",
   "metadata": {},
   "outputs": [
    {
     "ename": "TypeError",
     "evalue": "'tuple' object does not support item assignment",
     "output_type": "error",
     "traceback": [
      "\u001b[0;31m---------------------------------------------------------------------------\u001b[0m",
      "\u001b[0;31mTypeError\u001b[0m                                 Traceback (most recent call last)",
      "Input \u001b[0;32mIn [45]\u001b[0m, in \u001b[0;36m<cell line: 1>\u001b[0;34m()\u001b[0m\n\u001b[0;32m----> 1\u001b[0m langs[\u001b[38;5;241m2\u001b[39m] \u001b[38;5;241m=\u001b[39m \u001b[38;5;124m'\u001b[39m\u001b[38;5;124mC++\u001b[39m\u001b[38;5;124m'\u001b[39m\n",
      "\u001b[0;31mTypeError\u001b[0m: 'tuple' object does not support item assignment"
     ]
    }
   ],
   "source": [
    "langs[2] = 'C++'"
   ]
  },
  {
   "cell_type": "code",
   "execution_count": 75,
   "id": "dff87c19",
   "metadata": {},
   "outputs": [
    {
     "data": {
      "text/plain": [
       "tuple"
      ]
     },
     "execution_count": 75,
     "metadata": {},
     "output_type": "execute_result"
    }
   ],
   "source": [
    "# 空元组\n",
    "type(())"
   ]
  },
  {
   "cell_type": "code",
   "execution_count": 46,
   "id": "3772b3f8",
   "metadata": {},
   "outputs": [
    {
     "data": {
      "text/plain": [
       "list"
      ]
     },
     "execution_count": 46,
     "metadata": {},
     "output_type": "execute_result"
    }
   ],
   "source": [
    "# 一个元素的元组\n",
    "type((['1', '2']))"
   ]
  },
  {
   "cell_type": "code",
   "execution_count": 47,
   "id": "54407435",
   "metadata": {},
   "outputs": [
    {
     "data": {
      "text/plain": [
       "tuple"
      ]
     },
     "execution_count": 47,
     "metadata": {},
     "output_type": "execute_result"
    }
   ],
   "source": [
    "# 一个元素的元组\n",
    "type((['1', '2'], ))"
   ]
  },
  {
   "cell_type": "markdown",
   "id": "eec10c3d",
   "metadata": {},
   "source": [
    "## 集合 set"
   ]
  },
  {
   "cell_type": "code",
   "execution_count": 92,
   "id": "e4290eba",
   "metadata": {},
   "outputs": [
    {
     "name": "stdout",
     "output_type": "stream",
     "text": [
      "{'lang', 'langs'}\n"
     ]
    }
   ],
   "source": [
    "# 在创建时自动删掉重复值\n",
    "myset = {'lang', 'langs', 'lang'}\n",
    "print(myset)"
   ]
  },
  {
   "cell_type": "code",
   "execution_count": 93,
   "id": "53e27444",
   "metadata": {},
   "outputs": [
    {
     "data": {
      "text/plain": [
       "{'lang', 'langs'}"
      ]
     },
     "execution_count": 93,
     "metadata": {},
     "output_type": "execute_result"
    }
   ],
   "source": [
    "set(['lang', 'langs', 'lang'])"
   ]
  },
  {
   "cell_type": "code",
   "execution_count": 94,
   "id": "3f03cda2",
   "metadata": {},
   "outputs": [],
   "source": [
    "a = {'Python', 'R', 'C'}\n",
    "b = {'Julia', 'C', 'C++'}"
   ]
  },
  {
   "cell_type": "code",
   "execution_count": 96,
   "id": "3e761cc1",
   "metadata": {},
   "outputs": [
    {
     "data": {
      "text/plain": [
       "{'C', 'C++', 'Julia', 'Python', 'R'}"
      ]
     },
     "execution_count": 96,
     "metadata": {},
     "output_type": "execute_result"
    }
   ],
   "source": [
    "a | b"
   ]
  },
  {
   "cell_type": "code",
   "execution_count": 97,
   "id": "2cc32608",
   "metadata": {},
   "outputs": [
    {
     "data": {
      "text/plain": [
       "{'C++', 'Julia', 'Python', 'R'}"
      ]
     },
     "execution_count": 97,
     "metadata": {},
     "output_type": "execute_result"
    }
   ],
   "source": [
    "a ^ b"
   ]
  },
  {
   "cell_type": "code",
   "execution_count": 98,
   "id": "6cb27c11",
   "metadata": {},
   "outputs": [
    {
     "data": {
      "text/plain": [
       "{'C', 'C++', 'Julia', 'Python', 'R'}"
      ]
     },
     "execution_count": 98,
     "metadata": {},
     "output_type": "execute_result"
    }
   ],
   "source": [
    "a | b - a&b"
   ]
  },
  {
   "cell_type": "code",
   "execution_count": 99,
   "id": "53e31d2c",
   "metadata": {},
   "outputs": [
    {
     "data": {
      "text/plain": [
       "{'Python', 'R'}"
      ]
     },
     "execution_count": 99,
     "metadata": {},
     "output_type": "execute_result"
    }
   ],
   "source": [
    "a - b"
   ]
  },
  {
   "cell_type": "code",
   "execution_count": 100,
   "id": "66d9a02e",
   "metadata": {},
   "outputs": [
    {
     "name": "stdout",
     "output_type": "stream",
     "text": [
      "{'C++', 'lang', 'langs'}\n"
     ]
    }
   ],
   "source": [
    "myset.add('C++')\n",
    "print(myset)"
   ]
  },
  {
   "cell_type": "code",
   "execution_count": 103,
   "id": "231dbfad",
   "metadata": {},
   "outputs": [],
   "source": [
    "myset.discard('lang')"
   ]
  },
  {
   "cell_type": "code",
   "execution_count": 104,
   "id": "4a3a55f9",
   "metadata": {},
   "outputs": [
    {
     "name": "stdout",
     "output_type": "stream",
     "text": [
      "{'C++', 'langs'}\n"
     ]
    }
   ],
   "source": [
    "print(myset)"
   ]
  },
  {
   "cell_type": "code",
   "execution_count": 105,
   "id": "e19e4eb9",
   "metadata": {},
   "outputs": [
    {
     "data": {
      "text/plain": [
       "'C++'"
      ]
     },
     "execution_count": 105,
     "metadata": {},
     "output_type": "execute_result"
    }
   ],
   "source": [
    "myset.pop()\n",
    "print(myset)"
   ]
  },
  {
   "cell_type": "code",
   "execution_count": 111,
   "id": "1fd51703",
   "metadata": {},
   "outputs": [
    {
     "data": {
      "text/plain": [
       "False"
      ]
     },
     "execution_count": 111,
     "metadata": {},
     "output_type": "execute_result"
    }
   ],
   "source": [
    "myset.issuperset({'lang', 'langs'})"
   ]
  },
  {
   "cell_type": "code",
   "execution_count": 112,
   "id": "2682dd29",
   "metadata": {},
   "outputs": [
    {
     "data": {
      "text/plain": [
       "True"
      ]
     },
     "execution_count": 112,
     "metadata": {},
     "output_type": "execute_result"
    }
   ],
   "source": [
    "myset.issubset({'lang', 'langs'})"
   ]
  },
  {
   "cell_type": "code",
   "execution_count": 114,
   "id": "df1486df",
   "metadata": {},
   "outputs": [
    {
     "ename": "KeyError",
     "evalue": "'langss'",
     "output_type": "error",
     "traceback": [
      "\u001b[0;31m---------------------------------------------------------------------------\u001b[0m",
      "\u001b[0;31mKeyError\u001b[0m                                  Traceback (most recent call last)",
      "Input \u001b[0;32mIn [114]\u001b[0m, in \u001b[0;36m<cell line: 1>\u001b[0;34m()\u001b[0m\n\u001b[0;32m----> 1\u001b[0m \u001b[43mmyset\u001b[49m\u001b[38;5;241;43m.\u001b[39;49m\u001b[43mremove\u001b[49m\u001b[43m(\u001b[49m\u001b[38;5;124;43m'\u001b[39;49m\u001b[38;5;124;43mlangss\u001b[39;49m\u001b[38;5;124;43m'\u001b[39;49m\u001b[43m)\u001b[49m\n",
      "\u001b[0;31mKeyError\u001b[0m: 'langss'"
     ]
    }
   ],
   "source": [
    "myset.remove('langss')"
   ]
  },
  {
   "cell_type": "markdown",
   "id": "38a5cca8",
   "metadata": {},
   "source": [
    "## 字典"
   ]
  },
  {
   "cell_type": "code",
   "execution_count": 49,
   "id": "6cd62342",
   "metadata": {},
   "outputs": [],
   "source": [
    "ages = {'me': 24, 'Peter': 20, 'Mary': 18}"
   ]
  },
  {
   "cell_type": "code",
   "execution_count": 50,
   "id": "3cb6f84f",
   "metadata": {},
   "outputs": [
    {
     "data": {
      "text/plain": [
       "24"
      ]
     },
     "execution_count": 50,
     "metadata": {},
     "output_type": "execute_result"
    }
   ],
   "source": [
    "# 字典索引\n",
    "ages['me']"
   ]
  },
  {
   "cell_type": "code",
   "execution_count": 51,
   "id": "00df4d8a",
   "metadata": {},
   "outputs": [
    {
     "name": "stdout",
     "output_type": "stream",
     "text": [
      "{'me': 24, 'Peter': 20, 'Mary': 18, 'him': 23}\n"
     ]
    }
   ],
   "source": [
    "# 向字典中添加\n",
    "ages['him'] = 23\n",
    "print(ages)"
   ]
  },
  {
   "cell_type": "code",
   "execution_count": 53,
   "id": "399f3f0e",
   "metadata": {},
   "outputs": [
    {
     "name": "stdout",
     "output_type": "stream",
     "text": [
      "{'me': '25', 'Peter': 20, 'Mary': 18, 'him': 23}\n"
     ]
    }
   ],
   "source": [
    "ages['me'] = '25'\n",
    "print(ages)"
   ]
  },
  {
   "cell_type": "code",
   "execution_count": 54,
   "id": "2b6b9c4d",
   "metadata": {},
   "outputs": [
    {
     "ename": "TypeError",
     "evalue": "unhashable type: 'list'",
     "output_type": "error",
     "traceback": [
      "\u001b[0;31m---------------------------------------------------------------------------\u001b[0m",
      "\u001b[0;31mTypeError\u001b[0m                                 Traceback (most recent call last)",
      "Input \u001b[0;32mIn [54]\u001b[0m, in \u001b[0;36m<cell line: 1>\u001b[0;34m()\u001b[0m\n\u001b[0;32m----> 1\u001b[0m ages[games] \u001b[38;5;241m=\u001b[39m \u001b[38;5;241m3\u001b[39m\n",
      "\u001b[0;31mTypeError\u001b[0m: unhashable type: 'list'"
     ]
    }
   ],
   "source": [
    "ages[games] = 3"
   ]
  },
  {
   "cell_type": "code",
   "execution_count": 130,
   "id": "bb0640e0",
   "metadata": {},
   "outputs": [
    {
     "name": "stdout",
     "output_type": "stream",
     "text": [
      "{'me': 25, 'Peter': 20, 'Mary': 18, 'him': 23}\n"
     ]
    }
   ],
   "source": [
    "ages['me'] = 25\n",
    "print(ages)"
   ]
  },
  {
   "cell_type": "markdown",
   "id": "d743587d",
   "metadata": {},
   "source": [
    "字典的主要方法"
   ]
  },
  {
   "cell_type": "code",
   "execution_count": 131,
   "id": "0fd66c17",
   "metadata": {},
   "outputs": [
    {
     "data": {
      "text/plain": [
       "dict_keys(['me', 'Peter', 'Mary', 'him'])"
      ]
     },
     "execution_count": 131,
     "metadata": {},
     "output_type": "execute_result"
    }
   ],
   "source": [
    "ages.keys()"
   ]
  },
  {
   "cell_type": "code",
   "execution_count": 134,
   "id": "de14e77f",
   "metadata": {},
   "outputs": [
    {
     "data": {
      "text/plain": [
       "[('me', 25), ('Peter', 20), ('Mary', 18), ('him', 23)]"
      ]
     },
     "execution_count": 134,
     "metadata": {},
     "output_type": "execute_result"
    }
   ],
   "source": [
    "ages.items()"
   ]
  },
  {
   "cell_type": "code",
   "execution_count": 55,
   "id": "b5a58644",
   "metadata": {},
   "outputs": [
    {
     "data": {
      "text/plain": [
       "[('me', '25'), ('Peter', 20), ('Mary', 18), ('him', 23)]"
      ]
     },
     "execution_count": 55,
     "metadata": {},
     "output_type": "execute_result"
    }
   ],
   "source": [
    "list(ages.items())"
   ]
  },
  {
   "cell_type": "code",
   "execution_count": 57,
   "id": "b7426b05",
   "metadata": {},
   "outputs": [
    {
     "data": {
      "text/plain": [
       "'25'"
      ]
     },
     "execution_count": 57,
     "metadata": {},
     "output_type": "execute_result"
    }
   ],
   "source": [
    "ages.pop('me')"
   ]
  },
  {
   "cell_type": "code",
   "execution_count": 58,
   "id": "3b2f71b3",
   "metadata": {},
   "outputs": [
    {
     "data": {
      "text/plain": [
       "{'Peter': 20, 'Mary': 18, 'him': 23}"
      ]
     },
     "execution_count": 58,
     "metadata": {},
     "output_type": "execute_result"
    }
   ],
   "source": [
    "ages"
   ]
  },
  {
   "cell_type": "code",
   "execution_count": 59,
   "id": "7f5582fb",
   "metadata": {},
   "outputs": [],
   "source": [
    "ages.update({'Peter': 23, 'me': 24})"
   ]
  },
  {
   "cell_type": "code",
   "execution_count": 60,
   "id": "dfcbd24c",
   "metadata": {},
   "outputs": [
    {
     "data": {
      "text/plain": [
       "{'Peter': 23, 'Mary': 18, 'him': 23, 'me': 24}"
      ]
     },
     "execution_count": 60,
     "metadata": {},
     "output_type": "execute_result"
    }
   ],
   "source": [
    "ages"
   ]
  },
  {
   "cell_type": "markdown",
   "id": "2ddeca8b",
   "metadata": {},
   "source": [
    "## 类型转换"
   ]
  },
  {
   "cell_type": "code",
   "execution_count": 173,
   "id": "cf1a7f57",
   "metadata": {},
   "outputs": [
    {
     "data": {
      "text/plain": [
       "3"
      ]
     },
     "execution_count": 173,
     "metadata": {},
     "output_type": "execute_result"
    }
   ],
   "source": [
    "int(3.4)"
   ]
  },
  {
   "cell_type": "code",
   "execution_count": 174,
   "id": "9f0203c6",
   "metadata": {},
   "outputs": [
    {
     "data": {
      "text/plain": [
       "3.0"
      ]
     },
     "execution_count": 174,
     "metadata": {},
     "output_type": "execute_result"
    }
   ],
   "source": [
    "float(3)"
   ]
  },
  {
   "cell_type": "code",
   "execution_count": 176,
   "id": "d93691dd",
   "metadata": {},
   "outputs": [
    {
     "data": {
      "text/plain": [
       "'4'"
      ]
     },
     "execution_count": 176,
     "metadata": {},
     "output_type": "execute_result"
    }
   ],
   "source": [
    "str(4)"
   ]
  },
  {
   "cell_type": "code",
   "execution_count": 178,
   "id": "2702c56b",
   "metadata": {},
   "outputs": [
    {
     "data": {
      "text/plain": [
       "4"
      ]
     },
     "execution_count": 178,
     "metadata": {},
     "output_type": "execute_result"
    }
   ],
   "source": [
    "# 字符串解析成数字\n",
    "int('4')"
   ]
  },
  {
   "cell_type": "code",
   "execution_count": 179,
   "id": "b8e6dd1b",
   "metadata": {},
   "outputs": [
    {
     "data": {
      "text/plain": [
       "32.33"
      ]
     },
     "execution_count": 179,
     "metadata": {},
     "output_type": "execute_result"
    }
   ],
   "source": [
    "float('32.33')"
   ]
  },
  {
   "cell_type": "markdown",
   "id": "c8721cdf",
   "metadata": {},
   "source": [
    "可迭代对象转成列表"
   ]
  },
  {
   "cell_type": "code",
   "execution_count": 62,
   "id": "7cc164b5",
   "metadata": {},
   "outputs": [
    {
     "data": {
      "text/plain": [
       "['a', 'b']"
      ]
     },
     "execution_count": 62,
     "metadata": {},
     "output_type": "execute_result"
    }
   ],
   "source": [
    "myset = {'a', 'b'}\n",
    "list(myset)"
   ]
  },
  {
   "cell_type": "code",
   "execution_count": 182,
   "id": "be849a87",
   "metadata": {},
   "outputs": [
    {
     "data": {
      "text/plain": [
       "['a', 'b']"
      ]
     },
     "execution_count": 182,
     "metadata": {},
     "output_type": "execute_result"
    }
   ],
   "source": [
    "mytuple = ('a', 'b')\n",
    "list(mytuple)"
   ]
  },
  {
   "cell_type": "code",
   "execution_count": 184,
   "id": "6053beab",
   "metadata": {},
   "outputs": [
    {
     "data": {
      "text/plain": [
       "['Peter', 'Mary', 'me']"
      ]
     },
     "execution_count": 184,
     "metadata": {},
     "output_type": "execute_result"
    }
   ],
   "source": [
    "list(ages.keys())"
   ]
  },
  {
   "cell_type": "code",
   "execution_count": 185,
   "id": "47deb0f6",
   "metadata": {},
   "outputs": [
    {
     "data": {
      "text/plain": [
       "['Peter', 'Mary', 'me']"
      ]
     },
     "execution_count": 185,
     "metadata": {},
     "output_type": "execute_result"
    }
   ],
   "source": [
    "list(ages)"
   ]
  },
  {
   "cell_type": "code",
   "execution_count": 187,
   "id": "1d3d21d8",
   "metadata": {},
   "outputs": [
    {
     "data": {
      "text/plain": [
       "[('Peter', 23), ('Mary', 18), ('me', 24)]"
      ]
     },
     "execution_count": 187,
     "metadata": {},
     "output_type": "execute_result"
    }
   ],
   "source": [
    "list(ages.items())"
   ]
  },
  {
   "cell_type": "code",
   "execution_count": 188,
   "id": "0f762735",
   "metadata": {},
   "outputs": [
    {
     "data": {
      "text/plain": [
       "[23, 18, 24]"
      ]
     },
     "execution_count": 188,
     "metadata": {},
     "output_type": "execute_result"
    }
   ],
   "source": [
    "list(ages.values())"
   ]
  },
  {
   "cell_type": "markdown",
   "id": "6f5b243b",
   "metadata": {},
   "source": [
    "同理，这些可迭代对象也都可以转换成tuple、set"
   ]
  },
  {
   "cell_type": "code",
   "execution_count": 189,
   "id": "bef2a2d2",
   "metadata": {},
   "outputs": [
    {
     "data": {
      "text/plain": [
       "('ages', 'age')"
      ]
     },
     "execution_count": 189,
     "metadata": {},
     "output_type": "execute_result"
    }
   ],
   "source": [
    "tuple({'age', 'ages'})"
   ]
  },
  {
   "cell_type": "markdown",
   "id": "a27fbffb",
   "metadata": {},
   "source": [
    "将键值对转换成字典"
   ]
  },
  {
   "cell_type": "code",
   "execution_count": 190,
   "id": "fa4f8a67",
   "metadata": {},
   "outputs": [
    {
     "data": {
      "text/plain": [
       "{'Peter': 3, 'mary': 4}"
      ]
     },
     "execution_count": 190,
     "metadata": {},
     "output_type": "execute_result"
    }
   ],
   "source": [
    "dict([('Peter', 3), ('mary', 4)])"
   ]
  },
  {
   "cell_type": "markdown",
   "id": "9aaeada1",
   "metadata": {},
   "source": [
    "## 查找文档"
   ]
  },
  {
   "cell_type": "code",
   "execution_count": 69,
   "id": "5dbeda57",
   "metadata": {},
   "outputs": [
    {
     "name": "stdout",
     "output_type": "stream",
     "text": [
      "Help on built-in function len in module builtins:\n",
      "\n",
      "len(obj, /)\n",
      "    Return the number of items in a container.\n",
      "\n"
     ]
    }
   ],
   "source": [
    "help(len)"
   ]
  },
  {
   "cell_type": "code",
   "execution_count": 70,
   "id": "68fc47cf",
   "metadata": {},
   "outputs": [],
   "source": [
    "?len"
   ]
  },
  {
   "cell_type": "code",
   "execution_count": 71,
   "id": "517861e2",
   "metadata": {},
   "outputs": [],
   "source": [
    "?myset.add"
   ]
  },
  {
   "cell_type": "code",
   "execution_count": 72,
   "id": "a4a4b403",
   "metadata": {},
   "outputs": [],
   "source": [
    "['a', 'b'].remove('a')"
   ]
  },
  {
   "cell_type": "code",
   "execution_count": 77,
   "id": "e146ce12",
   "metadata": {},
   "outputs": [
    {
     "data": {
      "text/plain": [
       "True"
      ]
     },
     "execution_count": 77,
     "metadata": {},
     "output_type": "execute_result"
    }
   ],
   "source": [
    "\"a\" in {\"a\", \"b\"}"
   ]
  },
  {
   "cell_type": "code",
   "execution_count": null,
   "id": "0776839e",
   "metadata": {},
   "outputs": [],
   "source": []
  }
 ],
 "metadata": {
  "kernelspec": {
   "display_name": "Python 3 (ipykernel)",
   "language": "python",
   "name": "python3"
  },
  "language_info": {
   "codemirror_mode": {
    "name": "ipython",
    "version": 3
   },
   "file_extension": ".py",
   "mimetype": "text/x-python",
   "name": "python",
   "nbconvert_exporter": "python",
   "pygments_lexer": "ipython3",
   "version": "3.9.13"
  }
 },
 "nbformat": 4,
 "nbformat_minor": 5
}
