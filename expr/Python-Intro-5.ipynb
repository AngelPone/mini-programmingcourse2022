{
 "cells": [
  {
   "cell_type": "markdown",
   "metadata": {},
   "source": [
    "## Class 定义"
   ]
  },
  {
   "cell_type": "code",
   "execution_count": 1,
   "metadata": {},
   "outputs": [],
   "source": [
    "class Person(object):\n",
    "    def __init__(self, name, age = 18):\n",
    "        self.name = name\n",
    "        self.age = age\n",
    "    def say(self, stuff):\n",
    "        return self.name + ' says: ' + stuff\n",
    "    def birthday(self):\n",
    "        self.age += 1\n",
    "        return self.age\n",
    "    def __str__(self):\n",
    "        return self.name"
   ]
  },
  {
   "cell_type": "code",
   "execution_count": 23,
   "metadata": {},
   "outputs": [],
   "source": [
    "class Person(object):\n",
    "    def __init__(self, name, age = 18):\n",
    "        self.name = name\n",
    "        self.age = age\n",
    "    def say(self, stuff):\n",
    "        return self.name + ' says: ' + stuff\n",
    "    def birthday(self):\n",
    "        self.age += 1\n",
    "        return self.age\n",
    "    def __str__(self):\n",
    "        return self.name"
   ]
  },
  {
   "cell_type": "markdown",
   "metadata": {},
   "source": [
    "类的属性"
   ]
  },
  {
   "cell_type": "code",
   "execution_count": 24,
   "metadata": {},
   "outputs": [],
   "source": [
    "class Person(object):\n",
    "    # type\n",
    "    type = 'animal'\n",
    "    def __init__(self, name, age = 18):\n",
    "        self.name = name\n",
    "        self.age = age\n",
    "    def say(self, stuff):\n",
    "        return self.name + ' says: ' + stuff\n",
    "    def birthday(self):\n",
    "        self.age += 1\n",
    "        return self.age\n",
    "    def __str__(self):\n",
    "        return self.name"
   ]
  },
  {
   "cell_type": "code",
   "execution_count": 25,
   "metadata": {},
   "outputs": [
    {
     "data": {
      "text/plain": [
       "'animal'"
      ]
     },
     "execution_count": 25,
     "metadata": {},
     "output_type": "execute_result"
    }
   ],
   "source": [
    "Person.type"
   ]
  },
  {
   "cell_type": "code",
   "execution_count": 27,
   "metadata": {},
   "outputs": [
    {
     "data": {
      "text/plain": [
       "'张博涵 says: Hello'"
      ]
     },
     "execution_count": 27,
     "metadata": {},
     "output_type": "execute_result"
    }
   ],
   "source": [
    "bohan = Person(name='张博涵', age=24)\n",
    "bohan.name # 张博涵\n",
    "bohan.age # 24 访问对象属性\n",
    "bohan.type # animal 访问类属性\n",
    "bohan.birthday() # 25 调用对象的方法\n",
    "bohan.say(\"Hello\") #"
   ]
  },
  {
   "cell_type": "code",
   "execution_count": 28,
   "metadata": {},
   "outputs": [
    {
     "data": {
      "text/plain": [
       "25"
      ]
     },
     "execution_count": 28,
     "metadata": {},
     "output_type": "execute_result"
    }
   ],
   "source": [
    "bohan.age"
   ]
  },
  {
   "cell_type": "code",
   "execution_count": 29,
   "metadata": {},
   "outputs": [
    {
     "data": {
      "text/plain": [
       "26"
      ]
     },
     "execution_count": 29,
     "metadata": {},
     "output_type": "execute_result"
    }
   ],
   "source": [
    "bohan.age = 26\n",
    "bohan.age"
   ]
  },
  {
   "cell_type": "code",
   "execution_count": 30,
   "metadata": {},
   "outputs": [],
   "source": [
    "Person.__doc__"
   ]
  },
  {
   "cell_type": "code",
   "execution_count": 31,
   "metadata": {},
   "outputs": [
    {
     "data": {
      "text/plain": [
       "object"
      ]
     },
     "execution_count": 31,
     "metadata": {},
     "output_type": "execute_result"
    }
   ],
   "source": [
    "Person.__base__"
   ]
  },
  {
   "cell_type": "code",
   "execution_count": 32,
   "metadata": {},
   "outputs": [
    {
     "data": {
      "text/plain": [
       "mappingproxy({'__module__': '__main__',\n",
       "              'type': 'animal',\n",
       "              '__init__': <function __main__.Person.__init__(self, name, age=18)>,\n",
       "              'say': <function __main__.Person.say(self, stuff)>,\n",
       "              'birthday': <function __main__.Person.birthday(self)>,\n",
       "              '__str__': <function __main__.Person.__str__(self)>,\n",
       "              '__dict__': <attribute '__dict__' of 'Person' objects>,\n",
       "              '__weakref__': <attribute '__weakref__' of 'Person' objects>,\n",
       "              '__doc__': None})"
      ]
     },
     "execution_count": 32,
     "metadata": {},
     "output_type": "execute_result"
    }
   ],
   "source": [
    "Person.__dict__"
   ]
  },
  {
   "cell_type": "code",
   "execution_count": 38,
   "metadata": {},
   "outputs": [
    {
     "data": {
      "text/plain": [
       "'animal'"
      ]
     },
     "execution_count": 38,
     "metadata": {},
     "output_type": "execute_result"
    }
   ],
   "source": [
    "bohan.type"
   ]
  },
  {
   "cell_type": "code",
   "execution_count": 40,
   "metadata": {},
   "outputs": [],
   "source": [
    "Person.type = 'animals'"
   ]
  },
  {
   "cell_type": "code",
   "execution_count": 42,
   "metadata": {},
   "outputs": [],
   "source": [
    "class Person(object):\n",
    "    # type\n",
    "    type = 'animal'\n",
    "    def __init__(self, name, age = 18):\n",
    "        self.name = name\n",
    "        self.age = age\n",
    "        self.type = \"animals\"\n",
    "    def say(self, stuff):\n",
    "        return self.name + ' says: ' + stuff\n",
    "    def birthday(self):\n",
    "        self.age += 1\n",
    "        return self.age\n",
    "    def __str__(self):\n",
    "        return self.name"
   ]
  },
  {
   "cell_type": "code",
   "execution_count": 55,
   "metadata": {},
   "outputs": [],
   "source": [
    "bohan = Person(\"博涵\", 24)"
   ]
  },
  {
   "cell_type": "code",
   "execution_count": 56,
   "metadata": {},
   "outputs": [
    {
     "data": {
      "text/plain": [
       "'animals'"
      ]
     },
     "execution_count": 56,
     "metadata": {},
     "output_type": "execute_result"
    }
   ],
   "source": [
    "bohan.type"
   ]
  },
  {
   "cell_type": "code",
   "execution_count": 45,
   "metadata": {},
   "outputs": [
    {
     "data": {
      "text/plain": [
       "'animal'"
      ]
     },
     "execution_count": 45,
     "metadata": {},
     "output_type": "execute_result"
    }
   ],
   "source": [
    "Person.type"
   ]
  },
  {
   "cell_type": "markdown",
   "metadata": {},
   "source": [
    "## 继承"
   ]
  },
  {
   "cell_type": "code",
   "execution_count": 47,
   "metadata": {},
   "outputs": [],
   "source": [
    "class Student(Person):\n",
    "    def __init__(self, name, age = 18):\n",
    "        super().__init__(name, age)\n",
    "        self.type = \"student\"\n",
    "    def say(self):\n",
    "        return self.name + ' says: ' + \"I am a student\""
   ]
  },
  {
   "cell_type": "code",
   "execution_count": 48,
   "metadata": {},
   "outputs": [],
   "source": [
    "bohanStudent = Student(\"博涵\", 24)"
   ]
  },
  {
   "cell_type": "code",
   "execution_count": 49,
   "metadata": {},
   "outputs": [
    {
     "data": {
      "text/plain": [
       "24"
      ]
     },
     "execution_count": 49,
     "metadata": {},
     "output_type": "execute_result"
    }
   ],
   "source": [
    "bohanStudent.age"
   ]
  },
  {
   "cell_type": "code",
   "execution_count": 50,
   "metadata": {},
   "outputs": [
    {
     "data": {
      "text/plain": [
       "'student'"
      ]
     },
     "execution_count": 50,
     "metadata": {},
     "output_type": "execute_result"
    }
   ],
   "source": [
    "bohanStudent.type"
   ]
  },
  {
   "cell_type": "code",
   "execution_count": 51,
   "metadata": {},
   "outputs": [
    {
     "data": {
      "text/plain": [
       "'博涵'"
      ]
     },
     "execution_count": 51,
     "metadata": {},
     "output_type": "execute_result"
    }
   ],
   "source": [
    "bohanStudent.name"
   ]
  },
  {
   "cell_type": "code",
   "execution_count": 52,
   "metadata": {},
   "outputs": [
    {
     "data": {
      "text/plain": [
       "'博涵 says: I am a student'"
      ]
     },
     "execution_count": 52,
     "metadata": {},
     "output_type": "execute_result"
    }
   ],
   "source": [
    "# overload, 访问子类中覆盖掉父类的方法\n",
    "bohanStudent.say()"
   ]
  },
  {
   "cell_type": "code",
   "execution_count": 54,
   "metadata": {},
   "outputs": [
    {
     "data": {
      "text/plain": [
       "25"
      ]
     },
     "execution_count": 54,
     "metadata": {},
     "output_type": "execute_result"
    }
   ],
   "source": [
    "# inheritance\n",
    "bohanStudent.birthday()"
   ]
  },
  {
   "cell_type": "code",
   "execution_count": 57,
   "metadata": {},
   "outputs": [
    {
     "data": {
      "text/plain": [
       "<list_iterator at 0x10bb8b1f0>"
      ]
     },
     "execution_count": 57,
     "metadata": {},
     "output_type": "execute_result"
    }
   ],
   "source": [
    "iter([1,2,3])"
   ]
  },
  {
   "cell_type": "code",
   "execution_count": null,
   "metadata": {},
   "outputs": [],
   "source": []
  },
  {
   "cell_type": "markdown",
   "metadata": {},
   "source": [
    "## 可迭代对象"
   ]
  },
  {
   "cell_type": "code",
   "execution_count": 74,
   "metadata": {},
   "outputs": [
    {
     "data": {
      "text/plain": [
       "<list_iterator at 0x10672aeb0>"
      ]
     },
     "execution_count": 74,
     "metadata": {},
     "output_type": "execute_result"
    }
   ],
   "source": [
    "iter([1,2,3])"
   ]
  },
  {
   "cell_type": "code",
   "execution_count": 58,
   "metadata": {},
   "outputs": [],
   "source": [
    "class Reverse:\n",
    "    \"\"\"Iterator for looping over a sequence backwards.\"\"\"\n",
    "    def __init__(self, data):\n",
    "        self.data = data\n",
    "        self.index = len(data)\n",
    "\n",
    "    def __iter__(self):\n",
    "        return self\n",
    "\n",
    "    def __next__(self):\n",
    "        if self.index == 0:\n",
    "            raise StopIteration\n",
    "        self.index = self.index - 1\n",
    "        return self.data[self.index]"
   ]
  },
  {
   "cell_type": "code",
   "execution_count": 69,
   "metadata": {},
   "outputs": [],
   "source": [
    "rev = Reverse('spam')"
   ]
  },
  {
   "cell_type": "code",
   "execution_count": 67,
   "metadata": {},
   "outputs": [
    {
     "name": "stdout",
     "output_type": "stream",
     "text": [
      "m\n",
      "a\n",
      "p\n",
      "s\n"
     ]
    }
   ],
   "source": [
    "for i in rev:\n",
    "    print(i)"
   ]
  },
  {
   "cell_type": "code",
   "execution_count": 68,
   "metadata": {},
   "outputs": [
    {
     "data": {
      "text/plain": [
       "<__main__.Reverse at 0x106739940>"
      ]
     },
     "execution_count": 68,
     "metadata": {},
     "output_type": "execute_result"
    }
   ],
   "source": [
    "iter(rev)\n",
    "rev.__iter__()"
   ]
  },
  {
   "cell_type": "code",
   "execution_count": 70,
   "metadata": {},
   "outputs": [
    {
     "data": {
      "text/plain": [
       "'m'"
      ]
     },
     "execution_count": 70,
     "metadata": {},
     "output_type": "execute_result"
    }
   ],
   "source": [
    "rev.__next__()"
   ]
  },
  {
   "cell_type": "code",
   "execution_count": 71,
   "metadata": {},
   "outputs": [
    {
     "data": {
      "text/plain": [
       "'a'"
      ]
     },
     "execution_count": 71,
     "metadata": {},
     "output_type": "execute_result"
    }
   ],
   "source": [
    "rev.__next__()"
   ]
  },
  {
   "cell_type": "code",
   "execution_count": 72,
   "metadata": {},
   "outputs": [
    {
     "data": {
      "text/plain": [
       "'p'"
      ]
     },
     "execution_count": 72,
     "metadata": {},
     "output_type": "execute_result"
    }
   ],
   "source": [
    "rev.__next__()"
   ]
  },
  {
   "cell_type": "code",
   "execution_count": 73,
   "metadata": {},
   "outputs": [
    {
     "data": {
      "text/plain": [
       "'s'"
      ]
     },
     "execution_count": 73,
     "metadata": {},
     "output_type": "execute_result"
    }
   ],
   "source": [
    "rev.__next__()"
   ]
  },
  {
   "cell_type": "code",
   "execution_count": 75,
   "metadata": {},
   "outputs": [],
   "source": [
    "def myGenerator():\n",
    "    for i in range(3):\n",
    "        yield i"
   ]
  },
  {
   "cell_type": "code",
   "execution_count": 76,
   "metadata": {},
   "outputs": [],
   "source": [
    "a = myGenerator()"
   ]
  },
  {
   "cell_type": "code",
   "execution_count": 77,
   "metadata": {},
   "outputs": [
    {
     "data": {
      "text/plain": [
       "<generator object myGenerator at 0x10c73cac0>"
      ]
     },
     "execution_count": 77,
     "metadata": {},
     "output_type": "execute_result"
    }
   ],
   "source": [
    "a"
   ]
  },
  {
   "cell_type": "code",
   "execution_count": 78,
   "metadata": {},
   "outputs": [],
   "source": [
    "class Reverse:\n",
    "    \"\"\"Iterator for looping over a sequence backwards.\"\"\"\n",
    "    def __init__(self, data):\n",
    "        self.data = data\n",
    "        self.index = len(data)\n",
    "\n",
    "    def __iter__(self):\n",
    "        for i in range(self.index-1, -1, -1):\n",
    "            yield self.data[i]"
   ]
  },
  {
   "cell_type": "code",
   "execution_count": 79,
   "metadata": {},
   "outputs": [],
   "source": [
    "a = Reverse('spam')"
   ]
  },
  {
   "cell_type": "code",
   "execution_count": 81,
   "metadata": {},
   "outputs": [
    {
     "name": "stdout",
     "output_type": "stream",
     "text": [
      "m\n",
      "a\n",
      "p\n",
      "s\n"
     ]
    }
   ],
   "source": [
    "for i in a:\n",
    "    print(i)"
   ]
  },
  {
   "cell_type": "code",
   "execution_count": 85,
   "metadata": {},
   "outputs": [],
   "source": [
    "class Student(Person):\n",
    "    def __init__(self, name, age = 18):\n",
    "        super().__init__(name, age)\n",
    "        self.type = \"student\"\n",
    "    def say(self):\n",
    "        return self.name + ' says: ' + \"I am a student\"\n",
    "    def __bool__(self):\n",
    "        return True"
   ]
  },
  {
   "cell_type": "code",
   "execution_count": 86,
   "metadata": {},
   "outputs": [
    {
     "name": "stdout",
     "output_type": "stream",
     "text": [
      "博涵\n"
     ]
    }
   ],
   "source": [
    "bohan = Student(\"博涵\", 24)\n",
    "if bohan:\n",
    "    print(bohan)"
   ]
  },
  {
   "cell_type": "markdown",
   "metadata": {},
   "source": [
    "- `if bohan` 调用了 `bool(bohan)` 方法将其转换为布尔型\n",
    "- `print(bohan)` 调用了 `str(bohan)` 方法将其转换为字符串\n",
    "- `==` 调用了 `__eq__()` 方法\n",
    "- 同理，`!=` 调用 `__ne__()` 方法, `>` 调用`__gt__()`方法，`<` 调用`lt`方法, `>=` 调用 `__ge__`方法，`<=` 调用`__le__` 方法"
   ]
  },
  {
   "cell_type": "code",
   "execution_count": 93,
   "metadata": {},
   "outputs": [],
   "source": [
    "class Student(Person):\n",
    "    def __init__(self, name, age = 18):\n",
    "        super().__init__(name, age)\n",
    "        self.type = \"student\"\n",
    "    def say(self):\n",
    "        return self.name + ' says: ' + \"I am a student\"\n",
    "    def __bool__(self):\n",
    "        return True\n",
    "    def __eq__(self, other):\n",
    "        return self.name == other.name\n",
    "    def __len__(self):\n",
    "        return self.age"
   ]
  },
  {
   "cell_type": "code",
   "execution_count": 95,
   "metadata": {},
   "outputs": [],
   "source": [
    "bohan = Student(\"博涵\", 24)\n",
    "bohan2 = Student(\"张博涵\", 25)"
   ]
  },
  {
   "cell_type": "code",
   "execution_count": 96,
   "metadata": {},
   "outputs": [
    {
     "data": {
      "text/plain": [
       "False"
      ]
     },
     "execution_count": 96,
     "metadata": {},
     "output_type": "execute_result"
    }
   ],
   "source": [
    "bohan == bohan2"
   ]
  },
  {
   "cell_type": "code",
   "execution_count": 97,
   "metadata": {},
   "outputs": [
    {
     "data": {
      "text/plain": [
       "24"
      ]
     },
     "execution_count": 97,
     "metadata": {},
     "output_type": "execute_result"
    }
   ],
   "source": [
    "len(bohan)"
   ]
  },
  {
   "cell_type": "markdown",
   "metadata": {},
   "source": [
    "## 作业"
   ]
  },
  {
   "cell_type": "code",
   "execution_count": 129,
   "metadata": {},
   "outputs": [
    {
     "name": "stdout",
     "output_type": "stream",
     "text": [
      "比赛正式打响！\n",
      "EDG vs RNG正在进行中, 比分1:0\n",
      "EDG vs RNG正在进行中, 比分1:1\n",
      "EDG vs RNG正在进行中, 比分1:2\n",
      "EDG vs RNG正在进行中, 比分1:3\n",
      "EDG vs RNG, 比分 1:3, RNG 胜\n"
     ]
    }
   ],
   "source": [
    "shijizhizhan = Match(\"EDG\", \"RNG\")\n",
    "shijizhizhan.start()\n",
    "shijizhizhan.add_score(\"EDG\")\n",
    "print(shijizhizhan)\n",
    "shijizhizhan.add_score(\"RNG\")\n",
    "print(shijizhizhan)\n",
    "shijizhizhan.add_score(\"RNG\")\n",
    "print(shijizhizhan)\n",
    "shijizhizhan.add_score(\"RNG\")\n",
    "print(shijizhizhan)\n",
    "shijizhizhan.end()"
   ]
  },
  {
   "cell_type": "code",
   "execution_count": 125,
   "metadata": {},
   "outputs": [
    {
     "name": "stdout",
     "output_type": "stream",
     "text": [
      "EDG vs RNG，比赛已经结束, 最终比分1:3\n"
     ]
    }
   ],
   "source": [
    "print(shijizhizhan)"
   ]
  },
  {
   "cell_type": "code",
   "execution_count": 126,
   "metadata": {},
   "outputs": [
    {
     "name": "stdout",
     "output_type": "stream",
     "text": [
      "比赛已经结束\n"
     ]
    }
   ],
   "source": [
    "shijizhizhan.start()"
   ]
  },
  {
   "cell_type": "code",
   "execution_count": 128,
   "metadata": {},
   "outputs": [],
   "source": [
    "class Match:\n",
    "    def __init__(self, A, B):\n",
    "        self.scores = {}\n",
    "        self.scores[A] = 0\n",
    "        self.scores[B] = 0 \n",
    "        self.status = -1\n",
    "    def start(self):\n",
    "        if self.status == -1:\n",
    "            self.status = 0\n",
    "            print(\"比赛正式打响！\")\n",
    "        elif self.status == 0:\n",
    "            print(\"比赛已经开始\")\n",
    "        else:\n",
    "            print(\"比赛已经结束\")\n",
    "    def add_score(self, winner):\n",
    "        if self.status == 0:\n",
    "            self.scores[winner] += 1\n",
    "        elif self.status == -1:\n",
    "            print(\"比赛尚未开始\")\n",
    "        else:\n",
    "            print(\"比赛已经结束\")\n",
    "    def end(self):\n",
    "        # 如果比赛正在进行中，结束比赛并输出比分以及胜者\n",
    "        if self.status == 0:\n",
    "            self.status = 1\n",
    "            keys = list(self.scores.keys())\n",
    "            if self.scores[keys[0]] > self.scores[keys[1]]:\n",
    "                print(f\"{keys[0]} vs {keys[1]}, 比分 {self.scores[keys[0]]}:{self.scores[keys[1]]}, {keys[0]} 胜\")\n",
    "            elif self.scores[keys[0]] < self.scores[keys[1]]:\n",
    "                print(f\"{keys[0]} vs {keys[1]}, 比分 {self.scores[keys[0]]}:{self.scores[keys[1]]}, {keys[1]} 胜\")\n",
    "            else:\n",
    "                print(f\"{keys[0]} vs {keys[1]}, 比分 {self.scores[keys[0]]}:{self.scores[keys[1]]}, 平局\")\n",
    "        elif self.status == -1:\n",
    "            print(\"比赛尚未开始\")\n",
    "        else:\n",
    "            print(\"比赛已经结束\")\n",
    "    def __str__(self):\n",
    "        keys = list(self.scores.keys())\n",
    "        # 输出比赛的状态以及目前的比分\n",
    "        if self.status == 0:\n",
    "            return f\"{keys[0]} vs {keys[1]}正在进行中, 比分{self.scores[keys[0]]}:{self.scores[keys[1]]}\"\n",
    "        elif self.status == -1:\n",
    "            return f\"{keys[0]} vs {keys[1]}, 比赛尚未开始\"\n",
    "        else:\n",
    "            return f\"{keys[0]} vs {keys[1]}，比赛已经结束, 最终比分{self.scores[keys[0]]}:{self.scores[keys[1]]}\"\n",
    "\n"
   ]
  },
  {
   "cell_type": "code",
   "execution_count": null,
   "metadata": {},
   "outputs": [],
   "source": []
  }
 ],
 "metadata": {
  "kernelspec": {
   "display_name": "Python 3.9.13 ('base')",
   "language": "python",
   "name": "python3"
  },
  "language_info": {
   "codemirror_mode": {
    "name": "ipython",
    "version": 3
   },
   "file_extension": ".py",
   "mimetype": "text/x-python",
   "name": "python",
   "nbconvert_exporter": "python",
   "pygments_lexer": "ipython3",
   "version": "3.9.13"
  },
  "orig_nbformat": 4,
  "vscode": {
   "interpreter": {
    "hash": "d2d2c11b578c9c52c9f2c0dce56ceaa584496d185909b86a3a5e0fef7c24707f"
   }
  }
 },
 "nbformat": 4,
 "nbformat_minor": 2
}
