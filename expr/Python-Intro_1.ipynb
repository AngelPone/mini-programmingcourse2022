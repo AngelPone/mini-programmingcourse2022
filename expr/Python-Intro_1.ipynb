{
 "cells": [
  {
   "cell_type": "markdown",
   "id": "1de96c54",
   "metadata": {},
   "source": [
    "# 标识符 与 保留字"
   ]
  },
  {
   "cell_type": "code",
   "execution_count": 1,
   "id": "f50861f8",
   "metadata": {},
   "outputs": [
    {
     "name": "stdout",
     "output_type": "stream",
     "text": [
      "1\n",
      "1\n",
      "1\n",
      "2\n",
      "3\n"
     ]
    }
   ],
   "source": [
    "a = 1\n",
    "a张 = 1\n",
    "print(a)\n",
    "print(a张)\n",
    "\n",
    "_1 = 1\n",
    "print(_1)\n",
    "\n",
    "张 = 2\n",
    "print(张)\n",
    "\n",
    "Ω = 3\n",
    "print(Ω)"
   ]
  },
  {
   "cell_type": "code",
   "execution_count": 2,
   "id": "d5330358",
   "metadata": {},
   "outputs": [
    {
     "ename": "SyntaxError",
     "evalue": "invalid syntax (2943537931.py, line 1)",
     "output_type": "error",
     "traceback": [
      "\u001b[0;36m  Input \u001b[0;32mIn [2]\u001b[0;36m\u001b[0m\n\u001b[0;31m    a@ = 2\u001b[0m\n\u001b[0m       ^\u001b[0m\n\u001b[0;31mSyntaxError\u001b[0m\u001b[0;31m:\u001b[0m invalid syntax\n"
     ]
    }
   ],
   "source": [
    "a@ = 2"
   ]
  },
  {
   "cell_type": "code",
   "execution_count": 5,
   "id": "edc16814",
   "metadata": {},
   "outputs": [
    {
     "data": {
      "text/plain": [
       "['False',\n",
       " 'None',\n",
       " 'True',\n",
       " '__peg_parser__',\n",
       " 'and',\n",
       " 'as',\n",
       " 'assert',\n",
       " 'async',\n",
       " 'await',\n",
       " 'break',\n",
       " 'class',\n",
       " 'continue',\n",
       " 'def',\n",
       " 'del',\n",
       " 'elif',\n",
       " 'else',\n",
       " 'except',\n",
       " 'finally',\n",
       " 'for',\n",
       " 'from',\n",
       " 'global',\n",
       " 'if',\n",
       " 'import',\n",
       " 'in',\n",
       " 'is',\n",
       " 'lambda',\n",
       " 'nonlocal',\n",
       " 'not',\n",
       " 'or',\n",
       " 'pass',\n",
       " 'raise',\n",
       " 'return',\n",
       " 'try',\n",
       " 'while',\n",
       " 'with',\n",
       " 'yield']"
      ]
     },
     "execution_count": 5,
     "metadata": {},
     "output_type": "execute_result"
    }
   ],
   "source": [
    "import keyword\n",
    "keyword.kwlist"
   ]
  },
  {
   "cell_type": "code",
   "execution_count": 4,
   "id": "adf9cf7e",
   "metadata": {},
   "outputs": [
    {
     "ename": "SyntaxError",
     "evalue": "invalid syntax (1364088940.py, line 1)",
     "output_type": "error",
     "traceback": [
      "\u001b[0;36m  Input \u001b[0;32mIn [4]\u001b[0;36m\u001b[0m\n\u001b[0;31m    with = 4\u001b[0m\n\u001b[0m         ^\u001b[0m\n\u001b[0;31mSyntaxError\u001b[0m\u001b[0;31m:\u001b[0m invalid syntax\n"
     ]
    }
   ],
   "source": [
    "with = 4"
   ]
  },
  {
   "cell_type": "markdown",
   "id": "f4db47c9",
   "metadata": {},
   "source": [
    "# 注释"
   ]
  },
  {
   "cell_type": "code",
   "execution_count": 5,
   "id": "0fae7bb7",
   "metadata": {},
   "outputs": [
    {
     "name": "stdout",
     "output_type": "stream",
     "text": [
      "1\n"
     ]
    }
   ],
   "source": [
    "# 这是一行注释\n",
    "\"\"\"\n",
    "这是好几行注释\n",
    "注释不会运行\n",
    "\"\"\"\n",
    "\n",
    "\n",
    "'''\n",
    "另一个多行注释\n",
    "'''\n",
    "\n",
    "print(a)"
   ]
  },
  {
   "cell_type": "markdown",
   "id": "1699c674",
   "metadata": {},
   "source": [
    "## 缩进与代码块"
   ]
  },
  {
   "cell_type": "code",
   "execution_count": 10,
   "id": "a85e96ce",
   "metadata": {},
   "outputs": [],
   "source": [
    "a = 2\n",
    "b = 2"
   ]
  },
  {
   "cell_type": "code",
   "execution_count": 11,
   "id": "74d70279",
   "metadata": {},
   "outputs": [
    {
     "name": "stdout",
     "output_type": "stream",
     "text": [
      "come to false\n"
     ]
    }
   ],
   "source": [
    "if a==1:\n",
    "    print(a)\n",
    "    print(b)\n",
    "else:\n",
    "    print(\"come to false\")"
   ]
  },
  {
   "cell_type": "code",
   "execution_count": 14,
   "id": "fe9e59f4",
   "metadata": {},
   "outputs": [],
   "source": [
    "a = a+1\n",
    "b = b + 2"
   ]
  },
  {
   "cell_type": "code",
   "execution_count": 17,
   "id": "62d60be2",
   "metadata": {},
   "outputs": [],
   "source": [
    "a = a \\\n",
    "+1"
   ]
  },
  {
   "cell_type": "code",
   "execution_count": 19,
   "id": "2b297bbd",
   "metadata": {},
   "outputs": [
    {
     "name": "stdout",
     "output_type": "stream",
     "text": [
      "请输入a：sdsds\n",
      "sdsds\n"
     ]
    }
   ],
   "source": [
    "a = input(\"请输入a：\")\n",
    "print(a)"
   ]
  },
  {
   "cell_type": "markdown",
   "id": "f4ff1016",
   "metadata": {},
   "source": [
    "## 一个小例子"
   ]
  },
  {
   "cell_type": "code",
   "execution_count": 20,
   "id": "90addf2e",
   "metadata": {},
   "outputs": [
    {
     "name": "stdout",
     "output_type": "stream",
     "text": [
      "请输入x:2\n"
     ]
    },
    {
     "data": {
      "text/plain": [
       "15"
      ]
     },
     "execution_count": 20,
     "metadata": {},
     "output_type": "execute_result"
    }
   ],
   "source": [
    "# 计算函数 f(x) = x^2 + 3|x| + 5， x 由用户输入\n",
    "def f():\n",
    "    x = int(input(\"请输入x:\"))\n",
    "    if x < 0:\n",
    "        y  = x**2 - 3 * x + 5\n",
    "    else:\n",
    "        y = x**2 + 3 * x + 5\n",
    "    return y\n",
    "\n",
    "# 调用函数\n",
    "f()"
   ]
  },
  {
   "cell_type": "markdown",
   "id": "95980e13",
   "metadata": {},
   "source": [
    "## 变量"
   ]
  },
  {
   "cell_type": "code",
   "execution_count": 21,
   "id": "c8473b62",
   "metadata": {},
   "outputs": [
    {
     "name": "stdout",
     "output_type": "stream",
     "text": [
      "1\n"
     ]
    }
   ],
   "source": [
    "e = 1\n",
    "print(e)"
   ]
  },
  {
   "cell_type": "code",
   "execution_count": 22,
   "id": "f59123d5",
   "metadata": {},
   "outputs": [
    {
     "name": "stdout",
     "output_type": "stream",
     "text": [
      "e is 1\n",
      "e is  another type of value\n"
     ]
    }
   ],
   "source": [
    "e = 1\n",
    "print('e is', e)\n",
    "\n",
    "e = 'another type of value'\n",
    "print('e is ', e)"
   ]
  },
  {
   "cell_type": "code",
   "execution_count": 23,
   "id": "94484346",
   "metadata": {},
   "outputs": [
    {
     "name": "stdout",
     "output_type": "stream",
     "text": [
      "['1', '2', '3']\n",
      "['1', '2', '3']\n"
     ]
    }
   ],
   "source": [
    "# 赋值另一个变量\n",
    "a = ['1', '2', '3']\n",
    "b = a\n",
    "print(b)\n",
    "print(a)"
   ]
  },
  {
   "cell_type": "code",
   "execution_count": 25,
   "id": "5c9d40a1",
   "metadata": {},
   "outputs": [
    {
     "name": "stdout",
     "output_type": "stream",
     "text": [
      "请输入x:2\n"
     ]
    }
   ],
   "source": [
    "c = f()"
   ]
  },
  {
   "cell_type": "code",
   "execution_count": 26,
   "id": "bacf2cc7",
   "metadata": {},
   "outputs": [
    {
     "name": "stdout",
     "output_type": "stream",
     "text": [
      "15\n"
     ]
    }
   ],
   "source": [
    "print(c)"
   ]
  },
  {
   "cell_type": "code",
   "execution_count": 48,
   "id": "765c43ca",
   "metadata": {},
   "outputs": [
    {
     "name": "stdout",
     "output_type": "stream",
     "text": [
      "['1', '3', '3']\n",
      "['1', '3', '3']\n"
     ]
    }
   ],
   "source": [
    "# a 和 b 指向同一数据块\n",
    "b[1] = '3'\n",
    "print(b)\n",
    "print(a)"
   ]
  },
  {
   "cell_type": "code",
   "execution_count": 27,
   "id": "17748a35",
   "metadata": {},
   "outputs": [],
   "source": [
    "a = 'zifuchuan'\n",
    "b = a\n",
    "b = 'sds'"
   ]
  },
  {
   "cell_type": "code",
   "execution_count": 28,
   "id": "6a7d8e3b",
   "metadata": {},
   "outputs": [
    {
     "name": "stdout",
     "output_type": "stream",
     "text": [
      "zifuchuan\n",
      "sds\n"
     ]
    }
   ],
   "source": [
    "print(a)\n",
    "print(b)"
   ]
  },
  {
   "cell_type": "code",
   "execution_count": 140,
   "id": "9f3569b4",
   "metadata": {},
   "outputs": [
    {
     "name": "stdout",
     "output_type": "stream",
     "text": [
      "3 4\n"
     ]
    }
   ],
   "source": [
    "# 特殊的赋值语句\n",
    "a = b = 2\n",
    "a, b = 3, 4\n",
    "print(a, b)"
   ]
  },
  {
   "cell_type": "code",
   "execution_count": 35,
   "id": "55243537",
   "metadata": {},
   "outputs": [
    {
     "data": {
      "text/plain": [
       "21"
      ]
     },
     "execution_count": 35,
     "metadata": {},
     "output_type": "execute_result"
    }
   ],
   "source": [
    "0b10101"
   ]
  },
  {
   "cell_type": "code",
   "execution_count": 114,
   "id": "323aa076",
   "metadata": {},
   "outputs": [
    {
     "name": "stdout",
     "output_type": "stream",
     "text": [
      "28  bytes, type: <class 'int'>\n",
      "28  bytes, type: <class 'int'>\n",
      "32  bytes, type: <class 'int'>\n",
      "36  bytes, type: <class 'int'>\n"
     ]
    }
   ],
   "source": [
    "from sys import getsizeof\n",
    "print(getsizeof(2**15), ' bytes, type:', type(2**15) )\n",
    "print(getsizeof(2**28), ' bytes, type:', type(2**28))\n",
    "print(getsizeof(2**33), ' bytes, type:', type(2**33))\n",
    "print(getsizeof(2**64), ' bytes, type:', type(2**64))"
   ]
  },
  {
   "cell_type": "code",
   "execution_count": 36,
   "id": "ebca03ea",
   "metadata": {},
   "outputs": [
    {
     "name": "stdout",
     "output_type": "stream",
     "text": [
      "2.1\n",
      "-0.10000000000000009\n",
      "2.2\n",
      "0.6666666666666666\n",
      "8\n",
      "2\n"
     ]
    }
   ],
   "source": [
    "print(1 + 1.1)\n",
    "print(1 - 1.1)\n",
    "print(2 * 1.1)\n",
    "print(2 / 3)\n",
    "print(2 ** 3)\n",
    "print(5 // 2)"
   ]
  },
  {
   "cell_type": "code",
   "execution_count": 37,
   "id": "be112f0a",
   "metadata": {},
   "outputs": [
    {
     "data": {
      "text/plain": [
       "0"
      ]
     },
     "execution_count": 37,
     "metadata": {},
     "output_type": "execute_result"
    }
   ],
   "source": [
    "3 % 1"
   ]
  },
  {
   "cell_type": "code",
   "execution_count": 38,
   "id": "0e0aa997",
   "metadata": {},
   "outputs": [],
   "source": [
    "import math"
   ]
  },
  {
   "cell_type": "code",
   "execution_count": 40,
   "id": "5266f5e4",
   "metadata": {},
   "outputs": [
    {
     "data": {
      "text/plain": [
       "1.1447298858494002"
      ]
     },
     "execution_count": 40,
     "metadata": {},
     "output_type": "execute_result"
    }
   ],
   "source": [
    "math.log(math.pi)"
   ]
  },
  {
   "cell_type": "markdown",
   "id": "8bcc6cd9",
   "metadata": {},
   "source": [
    "### 布尔型"
   ]
  },
  {
   "cell_type": "code",
   "execution_count": 41,
   "id": "e2a8f687",
   "metadata": {},
   "outputs": [
    {
     "data": {
      "text/plain": [
       "bool"
      ]
     },
     "execution_count": 41,
     "metadata": {},
     "output_type": "execute_result"
    }
   ],
   "source": [
    "a = True\n",
    "type(a)"
   ]
  },
  {
   "cell_type": "code",
   "execution_count": 43,
   "id": "b82af463",
   "metadata": {},
   "outputs": [
    {
     "data": {
      "text/plain": [
       "2.3"
      ]
     },
     "execution_count": 43,
     "metadata": {},
     "output_type": "execute_result"
    }
   ],
   "source": [
    "False + 2.3"
   ]
  },
  {
   "cell_type": "code",
   "execution_count": 48,
   "id": "46f6a13f",
   "metadata": {},
   "outputs": [
    {
     "data": {
      "text/plain": [
       "False"
      ]
     },
     "execution_count": 48,
     "metadata": {},
     "output_type": "execute_result"
    }
   ],
   "source": [
    "bool('')"
   ]
  },
  {
   "cell_type": "markdown",
   "id": "54697cf3",
   "metadata": {},
   "source": [
    "## 字符串"
   ]
  },
  {
   "cell_type": "code",
   "execution_count": 50,
   "id": "bc381242",
   "metadata": {},
   "outputs": [
    {
     "data": {
      "text/plain": [
       "'张'"
      ]
     },
     "execution_count": 50,
     "metadata": {},
     "output_type": "execute_result"
    }
   ],
   "source": [
    "a = '张博涵'\n",
    "a = \"张博涵\"\n",
    "a[0]"
   ]
  },
  {
   "cell_type": "code",
   "execution_count": 2,
   "id": "a8787315",
   "metadata": {},
   "outputs": [
    {
     "data": {
      "text/plain": [
       "'博'"
      ]
     },
     "execution_count": 2,
     "metadata": {},
     "output_type": "execute_result"
    }
   ],
   "source": [
    "a[1]"
   ]
  },
  {
   "cell_type": "code",
   "execution_count": 4,
   "id": "604ed009",
   "metadata": {},
   "outputs": [
    {
     "data": {
      "text/plain": [
       "str"
      ]
     },
     "execution_count": 4,
     "metadata": {},
     "output_type": "execute_result"
    }
   ],
   "source": [
    "type(a)"
   ]
  },
  {
   "cell_type": "code",
   "execution_count": 10,
   "id": "ef1fd88d",
   "metadata": {},
   "outputs": [
    {
     "data": {
      "text/plain": [
       "'张博涵'"
      ]
     },
     "execution_count": 10,
     "metadata": {},
     "output_type": "execute_result"
    }
   ],
   "source": [
    "a[0:3]"
   ]
  },
  {
   "cell_type": "code",
   "execution_count": 11,
   "id": "50b918a6",
   "metadata": {},
   "outputs": [
    {
     "data": {
      "text/plain": [
       "''"
      ]
     },
     "execution_count": 11,
     "metadata": {},
     "output_type": "execute_result"
    }
   ],
   "source": [
    "# 超出索引范围\n",
    "a[4:5]"
   ]
  },
  {
   "cell_type": "code",
   "execution_count": 51,
   "id": "19ea451a",
   "metadata": {},
   "outputs": [
    {
     "data": {
      "text/plain": [
       "'张博'"
      ]
     },
     "execution_count": 51,
     "metadata": {},
     "output_type": "execute_result"
    }
   ],
   "source": [
    "# 不指定则从最左边(或最右边)开始\n",
    "a[:-1]"
   ]
  },
  {
   "cell_type": "code",
   "execution_count": 26,
   "id": "7b995eb5",
   "metadata": {},
   "outputs": [
    {
     "data": {
      "text/plain": [
       "'张'"
      ]
     },
     "execution_count": 26,
     "metadata": {},
     "output_type": "execute_result"
    }
   ],
   "source": [
    "a[:-2]"
   ]
  },
  {
   "cell_type": "markdown",
   "id": "c99d6ec7",
   "metadata": {},
   "source": [
    "### 字符串操作"
   ]
  },
  {
   "cell_type": "code",
   "execution_count": 29,
   "id": "23cc2eef",
   "metadata": {},
   "outputs": [
    {
     "data": {
      "text/plain": [
       "'a b'"
      ]
     },
     "execution_count": 29,
     "metadata": {},
     "output_type": "execute_result"
    }
   ],
   "source": [
    "# 字符串拼接\n",
    "'a ' + 'b'"
   ]
  },
  {
   "cell_type": "code",
   "execution_count": 53,
   "id": "09624ef2",
   "metadata": {},
   "outputs": [
    {
     "data": {
      "text/plain": [
       "'123 '"
      ]
     },
     "execution_count": 53,
     "metadata": {},
     "output_type": "execute_result"
    }
   ],
   "source": [
    "'1' + '2' + '3 '"
   ]
  },
  {
   "cell_type": "code",
   "execution_count": 54,
   "id": "4f6fdeae",
   "metadata": {},
   "outputs": [
    {
     "data": {
      "text/plain": [
       "'a\\nb'"
      ]
     },
     "execution_count": 54,
     "metadata": {},
     "output_type": "execute_result"
    }
   ],
   "source": [
    "'a\\nb'"
   ]
  },
  {
   "cell_type": "code",
   "execution_count": 38,
   "id": "41e02c32",
   "metadata": {},
   "outputs": [
    {
     "name": "stdout",
     "output_type": "stream",
     "text": [
      "a\n",
      "b\n"
     ]
    }
   ],
   "source": [
    "# 转义字符\n",
    "print('a\\nb')"
   ]
  },
  {
   "cell_type": "code",
   "execution_count": 39,
   "id": "60499f7a",
   "metadata": {},
   "outputs": [
    {
     "name": "stdout",
     "output_type": "stream",
     "text": [
      "a\tb\n"
     ]
    }
   ],
   "source": [
    "print('a\\tb')"
   ]
  },
  {
   "cell_type": "code",
   "execution_count": 33,
   "id": "c5f1e4e3",
   "metadata": {},
   "outputs": [
    {
     "name": "stdout",
     "output_type": "stream",
     "text": [
      "a\\nb\n"
     ]
    }
   ],
   "source": [
    "print(r'a\\nb')"
   ]
  },
  {
   "cell_type": "code",
   "execution_count": 55,
   "id": "ef608616",
   "metadata": {},
   "outputs": [],
   "source": [
    "with open('test.txt', 'w') as f:\n",
    "    f.write('a\\tb')"
   ]
  },
  {
   "cell_type": "code",
   "execution_count": 59,
   "id": "041ef572",
   "metadata": {},
   "outputs": [
    {
     "name": "stdout",
     "output_type": "stream",
     "text": [
      "sds\"饮用\"ds\n"
     ]
    }
   ],
   "source": [
    "print(\"sds\\\"饮用\\\"ds\")"
   ]
  },
  {
   "cell_type": "code",
   "execution_count": 62,
   "id": "c0daea1a",
   "metadata": {},
   "outputs": [],
   "source": [
    "with open('test.txt', 'w', encoding=\"gbk\") as f:\n",
    "    f.write('张博涵')"
   ]
  },
  {
   "cell_type": "code",
   "execution_count": 71,
   "id": "f67aa922",
   "metadata": {},
   "outputs": [
    {
     "ename": "UnicodeDecodeError",
     "evalue": "'gbk' codec can't decode byte 0xb5 in position 8: incomplete multibyte sequence",
     "output_type": "error",
     "traceback": [
      "\u001b[0;31m---------------------------------------------------------------------------\u001b[0m",
      "\u001b[0;31mUnicodeDecodeError\u001b[0m                        Traceback (most recent call last)",
      "Input \u001b[0;32mIn [71]\u001b[0m, in \u001b[0;36m<cell line: 1>\u001b[0;34m()\u001b[0m\n\u001b[1;32m      1\u001b[0m \u001b[38;5;28;01mwith\u001b[39;00m \u001b[38;5;28mopen\u001b[39m(\u001b[38;5;124m'\u001b[39m\u001b[38;5;124m../test.txt\u001b[39m\u001b[38;5;124m'\u001b[39m, \u001b[38;5;124m'\u001b[39m\u001b[38;5;124mr\u001b[39m\u001b[38;5;124m'\u001b[39m, encoding\u001b[38;5;241m=\u001b[39m\u001b[38;5;124m\"\u001b[39m\u001b[38;5;124mgbk\u001b[39m\u001b[38;5;124m\"\u001b[39m) \u001b[38;5;28;01mas\u001b[39;00m f:\n\u001b[0;32m----> 2\u001b[0m     a \u001b[38;5;241m=\u001b[39m \u001b[43mf\u001b[49m\u001b[38;5;241;43m.\u001b[39;49m\u001b[43mread\u001b[49m\u001b[43m(\u001b[49m\u001b[43m)\u001b[49m\n",
      "\u001b[0;31mUnicodeDecodeError\u001b[0m: 'gbk' codec can't decode byte 0xb5 in position 8: incomplete multibyte sequence"
     ]
    }
   ],
   "source": [
    "with open('../test.txt', 'r', encoding=\"gbk\") as f:\n",
    "    a = f.read()"
   ]
  },
  {
   "cell_type": "code",
   "execution_count": 75,
   "id": "81068bb1",
   "metadata": {},
   "outputs": [
    {
     "ename": "UnicodeDecodeError",
     "evalue": "'gbk' codec can't decode byte 0xb5 in position 8: incomplete multibyte sequence",
     "output_type": "error",
     "traceback": [
      "\u001b[0;31m---------------------------------------------------------------------------\u001b[0m",
      "\u001b[0;31mUnicodeDecodeError\u001b[0m                        Traceback (most recent call last)",
      "Input \u001b[0;32mIn [75]\u001b[0m, in \u001b[0;36m<cell line: 1>\u001b[0;34m()\u001b[0m\n\u001b[0;32m----> 1\u001b[0m \u001b[43ma\u001b[49m\u001b[38;5;241;43m.\u001b[39;49m\u001b[43mencode\u001b[49m\u001b[43m(\u001b[49m\u001b[38;5;124;43m'\u001b[39;49m\u001b[38;5;124;43mutf-8\u001b[39;49m\u001b[38;5;124;43m'\u001b[39;49m\u001b[43m)\u001b[49m\u001b[38;5;241;43m.\u001b[39;49m\u001b[43mdecode\u001b[49m\u001b[43m(\u001b[49m\u001b[38;5;124;43m'\u001b[39;49m\u001b[38;5;124;43mgbk\u001b[39;49m\u001b[38;5;124;43m'\u001b[39;49m\u001b[43m)\u001b[49m\n",
      "\u001b[0;31mUnicodeDecodeError\u001b[0m: 'gbk' codec can't decode byte 0xb5 in position 8: incomplete multibyte sequence"
     ]
    }
   ],
   "source": [
    "a.encode('utf-8').decode('gbk')"
   ]
  },
  {
   "cell_type": "code",
   "execution_count": null,
   "id": "d21dc036",
   "metadata": {},
   "outputs": [],
   "source": []
  }
 ],
 "metadata": {
  "kernelspec": {
   "display_name": "Python 3 (ipykernel)",
   "language": "python",
   "name": "python3"
  },
  "language_info": {
   "codemirror_mode": {
    "name": "ipython",
    "version": 3
   },
   "file_extension": ".py",
   "mimetype": "text/x-python",
   "name": "python",
   "nbconvert_exporter": "python",
   "pygments_lexer": "ipython3",
   "version": "3.9.13"
  }
 },
 "nbformat": 4,
 "nbformat_minor": 5
}
